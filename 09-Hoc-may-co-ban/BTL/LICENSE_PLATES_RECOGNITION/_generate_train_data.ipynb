{
 "cells": [
  {
   "cell_type": "code",
   "execution_count": 1,
   "metadata": {},
   "outputs": [
    {
     "ename": "KeyboardInterrupt",
     "evalue": "",
     "output_type": "error",
     "traceback": [
      "\u001b[1;31m---------------------------------------------------------------------------\u001b[0m",
      "\u001b[1;31mKeyboardInterrupt\u001b[0m                         Traceback (most recent call last)",
      "\u001b[1;32mc:\\Data\\H01222\\09-Hoc-may-co-ban\\BTL\\LICENSE_PLATES_RECOGNITION\\_generate_train_data.ipynb Cell 1\u001b[0m line \u001b[0;36m3\n\u001b[0;32m     <a href='vscode-notebook-cell:/c%3A/Data/H01222/09-Hoc-may-co-ban/BTL/LICENSE_PLATES_RECOGNITION/_generate_train_data.ipynb#W0sZmlsZQ%3D%3D?line=22'>23</a>\u001b[0m         \u001b[39m# byte_array = np.asarray(mat_bin).reshape(-1)\u001b[39;00m\n\u001b[0;32m     <a href='vscode-notebook-cell:/c%3A/Data/H01222/09-Hoc-may-co-ban/BTL/LICENSE_PLATES_RECOGNITION/_generate_train_data.ipynb#W0sZmlsZQ%3D%3D?line=23'>24</a>\u001b[0m         \u001b[39m# data_row = ''\u001b[39;00m\n\u001b[0;32m     <a href='vscode-notebook-cell:/c%3A/Data/H01222/09-Hoc-may-co-ban/BTL/LICENSE_PLATES_RECOGNITION/_generate_train_data.ipynb#W0sZmlsZQ%3D%3D?line=24'>25</a>\u001b[0m         \u001b[39m# for val in byte_array:\u001b[39;00m\n\u001b[1;32m   (...)\u001b[0m\n\u001b[0;32m     <a href='vscode-notebook-cell:/c%3A/Data/H01222/09-Hoc-may-co-ban/BTL/LICENSE_PLATES_RECOGNITION/_generate_train_data.ipynb#W0sZmlsZQ%3D%3D?line=27'>28</a>\u001b[0m         \u001b[39m# data_row += character + '\\n'\u001b[39;00m\n\u001b[0;32m     <a href='vscode-notebook-cell:/c%3A/Data/H01222/09-Hoc-may-co-ban/BTL/LICENSE_PLATES_RECOGNITION/_generate_train_data.ipynb#W0sZmlsZQ%3D%3D?line=28'>29</a>\u001b[0m         \u001b[39m# f.write(data_row)\u001b[39;00m\n\u001b[0;32m     <a href='vscode-notebook-cell:/c%3A/Data/H01222/09-Hoc-may-co-ban/BTL/LICENSE_PLATES_RECOGNITION/_generate_train_data.ipynb#W0sZmlsZQ%3D%3D?line=29'>30</a>\u001b[0m         cv2\u001b[39m.\u001b[39mimshow(\u001b[39m'\u001b[39m\u001b[39mt\u001b[39m\u001b[39m'\u001b[39m, mat_bin)\n\u001b[1;32m---> <a href='vscode-notebook-cell:/c%3A/Data/H01222/09-Hoc-may-co-ban/BTL/LICENSE_PLATES_RECOGNITION/_generate_train_data.ipynb#W0sZmlsZQ%3D%3D?line=30'>31</a>\u001b[0m         cv2\u001b[39m.\u001b[39;49mwaitKey(\u001b[39m100\u001b[39;49m)\n\u001b[0;32m     <a href='vscode-notebook-cell:/c%3A/Data/H01222/09-Hoc-may-co-ban/BTL/LICENSE_PLATES_RECOGNITION/_generate_train_data.ipynb#W0sZmlsZQ%3D%3D?line=31'>32</a>\u001b[0m f\u001b[39m.\u001b[39mclose()\n\u001b[0;32m     <a href='vscode-notebook-cell:/c%3A/Data/H01222/09-Hoc-may-co-ban/BTL/LICENSE_PLATES_RECOGNITION/_generate_train_data.ipynb#W0sZmlsZQ%3D%3D?line=32'>33</a>\u001b[0m \u001b[39mprint\u001b[39m(\u001b[39m'\u001b[39m\u001b[39mFinished !\u001b[39m\u001b[39m'\u001b[39m)\n",
      "\u001b[1;31mKeyboardInterrupt\u001b[0m: "
     ]
    }
   ],
   "source": [
    "import cv2\n",
    "import os \n",
    "import numpy as np\n",
    "import csv\n",
    "\n",
    "path = 'train_images'\n",
    "list_dir = os.listdir(path)\n",
    "file_gray = open('train_datas/number_data_gray.csv', 'w')\n",
    "file_bin = open('train_datas/number_data_bin.csv', 'w')\n",
    "\n",
    "for dir in list_dir:\n",
    "    character = dir\n",
    "    list_file = os.listdir(path + '/' + dir)\n",
    "    for file in list_file:\n",
    "        file_path = path + '/' + character + '/' + file\n",
    "        mat = cv2.imread(file_path)\n",
    "        width = mat.shape[0]\n",
    "        height = mat.shape[1]\n",
    "        scale = width / height\n",
    "        mat_resize = cv2.resize(mat, (24,48))\n",
    "        mat_gray = cv2.cvtColor(mat_resize, cv2.COLOR_BGR2GRAY)\n",
    "        median = mat_gray.mean() + 30\n",
    "        _, mat_bin = cv2.threshold(mat_gray, median, 255, cv2.THRESH_BINARY_INV)\n",
    "\n",
    "        # generate from gray\n",
    "        byte_array_gray = np.asarray(mat_gray).reshape(-1)\n",
    "        data_row_gray = ''\n",
    "        for val in byte_array_gray:\n",
    "            data_row_gray += str(int(val)) + ','\n",
    "        data_row_gray += str(float(scale)) + ','\n",
    "        data_row_gray += character + '\\n'\n",
    "        file_gray.write(data_row_gray)\n",
    "\n",
    "        # generate from bin\n",
    "        byte_array_bin = np.asarray(mat_bin).reshape(-1)\n",
    "        data_row_bin = ''\n",
    "        for val in byte_array_bin:\n",
    "            data_row_bin += str(int(val)) + ','\n",
    "        data_row_bin += str(float(scale)) + ','\n",
    "        data_row_bin += character + '\\n'\n",
    "        file_bin.write(data_row_bin)\n",
    "\n",
    "\n",
    "        # cv2.imshow('t', mat_bin)\n",
    "        # cv2.waitKey(100)\n",
    "file_gray.close()\n",
    "file_bin.close()\n",
    "print('Finished !')"
   ]
  }
 ],
 "metadata": {
  "kernelspec": {
   "display_name": "Python 3",
   "language": "python",
   "name": "python3"
  },
  "language_info": {
   "codemirror_mode": {
    "name": "ipython",
    "version": 3
   },
   "file_extension": ".py",
   "mimetype": "text/x-python",
   "name": "python",
   "nbconvert_exporter": "python",
   "pygments_lexer": "ipython3",
   "version": "3.11.4"
  }
 },
 "nbformat": 4,
 "nbformat_minor": 2
}
